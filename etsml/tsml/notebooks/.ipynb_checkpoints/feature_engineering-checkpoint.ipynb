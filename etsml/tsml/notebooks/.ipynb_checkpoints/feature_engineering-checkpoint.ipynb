{
 "cells": [
  {
   "cell_type": "markdown",
   "id": "9ef760c2-fe96-4bac-828c-ddcf4e43775c",
   "metadata": {},
   "source": [
    "# 1. Importar Bibliotecas Necessárias\n",
    "Certifique-se de que todas as bibliotecas necessárias foram importadas."
   ]
  },
  {
   "cell_type": "code",
   "execution_count": 1,
   "id": "c2042351",
   "metadata": {},
   "outputs": [],
   "source": [
    "import os\n",
    "import pandas as pd\n",
    "from sklearn.model_selection import train_test_split\n",
    "from sklearn.ensemble import RandomForestRegressor\n",
    "from sklearn.metrics import mean_squared_error\n",
    "from tsml.feature_engineering.feature_engineering import FeatureEngineering\n",
    "\n",
    "import warnings\n",
    "warnings.filterwarnings(\"ignore\")"
   ]
  },
  {
   "cell_type": "markdown",
   "id": "b40589cb-c4c4-475e-9be1-4de74d32fc09",
   "metadata": {},
   "source": [
    "# 2. Carregar os Dados\n",
    "Carregue o dataset e faça o pré-processamento básico."
   ]
  },
  {
   "cell_type": "code",
   "execution_count": 2,
   "id": "f154e185-66bc-4310-a296-41a24cd49495",
   "metadata": {},
   "outputs": [],
   "source": [
    "data_dir = os.path.join('.', './tsml/datasets')\n",
    "data_file = os.path.join(data_dir, 'day.csv')\n",
    "data = pd.read_csv(data_file)"
   ]
  },
  {
   "cell_type": "markdown",
   "id": "44688809-cbc4-4c9e-8d57-d4c9f99f9b27",
   "metadata": {},
   "source": [
    "Pré-processamento dos dados"
   ]
  },
  {
   "cell_type": "code",
   "execution_count": 3,
   "id": "97a8aa01-eb60-4575-9132-d869398cfa5d",
   "metadata": {},
   "outputs": [
    {
     "data": {
      "text/html": [
       "<div>\n",
       "<style scoped>\n",
       "    .dataframe tbody tr th:only-of-type {\n",
       "        vertical-align: middle;\n",
       "    }\n",
       "\n",
       "    .dataframe tbody tr th {\n",
       "        vertical-align: top;\n",
       "    }\n",
       "\n",
       "    .dataframe thead th {\n",
       "        text-align: right;\n",
       "    }\n",
       "</style>\n",
       "<table border=\"1\" class=\"dataframe\">\n",
       "  <thead>\n",
       "    <tr style=\"text-align: right;\">\n",
       "      <th></th>\n",
       "      <th>instant</th>\n",
       "      <th>season</th>\n",
       "      <th>yr</th>\n",
       "      <th>mnth</th>\n",
       "      <th>holiday</th>\n",
       "      <th>weekday</th>\n",
       "      <th>workingday</th>\n",
       "      <th>weathersit</th>\n",
       "      <th>temp</th>\n",
       "      <th>atemp</th>\n",
       "      <th>hum</th>\n",
       "      <th>windspeed</th>\n",
       "      <th>casual</th>\n",
       "      <th>registered</th>\n",
       "      <th>cnt</th>\n",
       "      <th>year</th>\n",
       "      <th>month</th>\n",
       "      <th>day</th>\n",
       "      <th>dayofweek</th>\n",
       "    </tr>\n",
       "  </thead>\n",
       "  <tbody>\n",
       "    <tr>\n",
       "      <th>0</th>\n",
       "      <td>1</td>\n",
       "      <td>1</td>\n",
       "      <td>0</td>\n",
       "      <td>1</td>\n",
       "      <td>0</td>\n",
       "      <td>6</td>\n",
       "      <td>0</td>\n",
       "      <td>2</td>\n",
       "      <td>0.344167</td>\n",
       "      <td>0.363625</td>\n",
       "      <td>0.805833</td>\n",
       "      <td>0.160446</td>\n",
       "      <td>331</td>\n",
       "      <td>654</td>\n",
       "      <td>985</td>\n",
       "      <td>2011</td>\n",
       "      <td>1</td>\n",
       "      <td>1</td>\n",
       "      <td>5</td>\n",
       "    </tr>\n",
       "    <tr>\n",
       "      <th>1</th>\n",
       "      <td>2</td>\n",
       "      <td>1</td>\n",
       "      <td>0</td>\n",
       "      <td>1</td>\n",
       "      <td>0</td>\n",
       "      <td>0</td>\n",
       "      <td>0</td>\n",
       "      <td>2</td>\n",
       "      <td>0.363478</td>\n",
       "      <td>0.353739</td>\n",
       "      <td>0.696087</td>\n",
       "      <td>0.248539</td>\n",
       "      <td>131</td>\n",
       "      <td>670</td>\n",
       "      <td>801</td>\n",
       "      <td>2011</td>\n",
       "      <td>1</td>\n",
       "      <td>2</td>\n",
       "      <td>6</td>\n",
       "    </tr>\n",
       "    <tr>\n",
       "      <th>2</th>\n",
       "      <td>3</td>\n",
       "      <td>1</td>\n",
       "      <td>0</td>\n",
       "      <td>1</td>\n",
       "      <td>0</td>\n",
       "      <td>1</td>\n",
       "      <td>1</td>\n",
       "      <td>1</td>\n",
       "      <td>0.196364</td>\n",
       "      <td>0.189405</td>\n",
       "      <td>0.437273</td>\n",
       "      <td>0.248309</td>\n",
       "      <td>120</td>\n",
       "      <td>1229</td>\n",
       "      <td>1349</td>\n",
       "      <td>2011</td>\n",
       "      <td>1</td>\n",
       "      <td>3</td>\n",
       "      <td>0</td>\n",
       "    </tr>\n",
       "    <tr>\n",
       "      <th>3</th>\n",
       "      <td>4</td>\n",
       "      <td>1</td>\n",
       "      <td>0</td>\n",
       "      <td>1</td>\n",
       "      <td>0</td>\n",
       "      <td>2</td>\n",
       "      <td>1</td>\n",
       "      <td>1</td>\n",
       "      <td>0.200000</td>\n",
       "      <td>0.212122</td>\n",
       "      <td>0.590435</td>\n",
       "      <td>0.160296</td>\n",
       "      <td>108</td>\n",
       "      <td>1454</td>\n",
       "      <td>1562</td>\n",
       "      <td>2011</td>\n",
       "      <td>1</td>\n",
       "      <td>4</td>\n",
       "      <td>1</td>\n",
       "    </tr>\n",
       "    <tr>\n",
       "      <th>4</th>\n",
       "      <td>5</td>\n",
       "      <td>1</td>\n",
       "      <td>0</td>\n",
       "      <td>1</td>\n",
       "      <td>0</td>\n",
       "      <td>3</td>\n",
       "      <td>1</td>\n",
       "      <td>1</td>\n",
       "      <td>0.226957</td>\n",
       "      <td>0.229270</td>\n",
       "      <td>0.436957</td>\n",
       "      <td>0.186900</td>\n",
       "      <td>82</td>\n",
       "      <td>1518</td>\n",
       "      <td>1600</td>\n",
       "      <td>2011</td>\n",
       "      <td>1</td>\n",
       "      <td>5</td>\n",
       "      <td>2</td>\n",
       "    </tr>\n",
       "  </tbody>\n",
       "</table>\n",
       "</div>"
      ],
      "text/plain": [
       "   instant  season  yr  mnth  holiday  weekday  workingday  weathersit  \\\n",
       "0        1       1   0     1        0        6           0           2   \n",
       "1        2       1   0     1        0        0           0           2   \n",
       "2        3       1   0     1        0        1           1           1   \n",
       "3        4       1   0     1        0        2           1           1   \n",
       "4        5       1   0     1        0        3           1           1   \n",
       "\n",
       "       temp     atemp       hum  windspeed  casual  registered   cnt  year  \\\n",
       "0  0.344167  0.363625  0.805833   0.160446     331         654   985  2011   \n",
       "1  0.363478  0.353739  0.696087   0.248539     131         670   801  2011   \n",
       "2  0.196364  0.189405  0.437273   0.248309     120        1229  1349  2011   \n",
       "3  0.200000  0.212122  0.590435   0.160296     108        1454  1562  2011   \n",
       "4  0.226957  0.229270  0.436957   0.186900      82        1518  1600  2011   \n",
       "\n",
       "   month  day  dayofweek  \n",
       "0      1    1          5  \n",
       "1      1    2          6  \n",
       "2      1    3          0  \n",
       "3      1    4          1  \n",
       "4      1    5          2  "
      ]
     },
     "execution_count": 3,
     "metadata": {},
     "output_type": "execute_result"
    }
   ],
   "source": [
    "# Converter a coluna 'dteday' para datetime\n",
    "data['dteday'] = pd.to_datetime(data['dteday'])\n",
    "\n",
    "# Definir colunas categóricas\n",
    "categorical_cols = ['season', 'weathersit', 'holiday', 'workingday']\n",
    "\n",
    "# Extrair características da data\n",
    "data['year'] = data['dteday'].dt.year\n",
    "data['month'] = data['dteday'].dt.month\n",
    "data['day'] = data['dteday'].dt.day\n",
    "data['dayofweek'] = data['dteday'].dt.dayofweek\n",
    "\n",
    "# Remover a coluna original de data\n",
    "data.drop('dteday', axis=1, inplace=True)\n",
    "\n",
    "# Visualizar o dataset pré-processado\n",
    "data.head()"
   ]
  },
  {
   "cell_type": "code",
   "execution_count": 4,
   "id": "1dcbad95-adb1-4977-9c5b-5b8a5fb0bc16",
   "metadata": {},
   "outputs": [
    {
     "name": "stdout",
     "output_type": "stream",
     "text": [
      "Colunas selecionadas: ['instant', 'yr', 'temp', 'atemp', 'casual', 'year', 'cnt', 'season', 'weathersit', 'holiday', 'workingday']\n"
     ]
    }
   ],
   "source": [
    "# Definir os thresholds de correlação\n",
    "threshold_min = 0.5\n",
    "threshold_max = 0.9\n",
    "\n",
    "# Definir a variável-alvo\n",
    "target_col = 'cnt'  # Substitua pelo nome da variável-alvo, se necessário\n",
    "\n",
    "# Calcular a matriz de correlação\n",
    "correlation_matrix = data.corr()\n",
    "\n",
    "# Filtrar as colunas com correlação absoluta dentro dos thresholds em relação à variável-alvo\n",
    "selected_columns = correlation_matrix.index[\n",
    "    (abs(correlation_matrix[target_col]) >= threshold_min) & (abs(correlation_matrix[target_col]) <= threshold_max)\n",
    "].tolist()\n",
    "\n",
    "# Garantir que a variável target_col esteja nos selecionados\n",
    "if target_col not in selected_columns:\n",
    "    selected_columns.append(target_col)\n",
    "\n",
    "# Filtrar o DataFrame original com base nas colunas selecionadas\n",
    "filtered_data = data[selected_columns+categorical_cols]\n",
    "\n",
    "# Exibir o resultado\n",
    "print(f\"Colunas selecionadas: {selected_columns+categorical_cols}\")"
   ]
  },
  {
   "cell_type": "markdown",
   "id": "d669927b-1133-4bda-9007-3aa8a8502861",
   "metadata": {},
   "source": [
    "# 3. Dividir os Dados em Treinamento e Teste\n",
    "Separe os dados em conjuntos de treinamento e teste."
   ]
  },
  {
   "cell_type": "code",
   "execution_count": 5,
   "id": "a2f942d1-9202-49b4-98d2-4ec6308f1733",
   "metadata": {},
   "outputs": [],
   "source": [
    "# Definir as colunas de recurso e a variável alvo\n",
    "feature_cols = [col for col in data.columns if col != 'cnt']\n",
    "target_col = 'cnt'\n",
    "\n",
    "# Dividir em treinamento e teste\n",
    "X_train, X_test, y_train, y_test = train_test_split(data[feature_cols], data[target_col],\n",
    "                                                    test_size=0.9, random_state=42)"
   ]
  },
  {
   "cell_type": "markdown",
   "id": "34f99a88-14f2-4eea-baab-125593bea90f",
   "metadata": {},
   "source": [
    "# 4. Instanciar a FeatureEngineering\n",
    "Configure a classe com os parâmetros desejados."
   ]
  },
  {
   "cell_type": "code",
   "execution_count": 6,
   "id": "f2c4f7cd-d845-406c-b09a-d6318370da6c",
   "metadata": {},
   "outputs": [],
   "source": [
    "# Instanciar a classe FeatureEngineering\n",
    "fe = FeatureEngineering(\n",
    "    apply_boxcox=True,               # Aplicar transformação Box-Cox\n",
    "    min_poly_degree=1,               # Grau mínimo para polinômios\n",
    "    max_poly_degree=2,               # Grau máximo para polinômios\n",
    "    min_comb_size=2,                 # Tamanho mínimo para combinações\n",
    "    max_comb_size=2,                 # Tamanho máximo para combinações\n",
    "    lag_features={'temp': [1, 2]},   # Criar defasagens para a coluna 'temp'\n",
    "    categorical_cols=['season', 'weathersit', 'holiday', 'workingday'],  # Especificar colunas categóricas\n",
    "    encoding_strategy='auto',        # Estratégia para codificação categórica\n",
    "    verbose=True                     # Ativar saída detalhada\n",
    ")"
   ]
  },
  {
   "cell_type": "markdown",
   "id": "a4dab24e-e1c6-4eb9-bf49-f877a8756ad2",
   "metadata": {},
   "source": [
    "# 5. Ajustar e Transformar os Dados\n",
    "Aplique as transformações ao conjunto de treinamento e teste."
   ]
  },
  {
   "cell_type": "code",
   "execution_count": null,
   "id": "4a88562d-6c3b-4788-a103-37f67827035c",
   "metadata": {},
   "outputs": [
    {
     "name": "stderr",
     "output_type": "stream",
     "text": [
      "2024-11-28 09:31:11,719 - WARNING - Skipping Box-Cox for column 'yr' due to non-positive values.\n",
      "2024-11-28 09:31:11,725 - WARNING - Skipping Box-Cox for column 'holiday' due to non-positive values.\n",
      "2024-11-28 09:31:11,728 - WARNING - Skipping Box-Cox for column 'weekday' due to non-positive values.\n",
      "2024-11-28 09:31:11,729 - WARNING - Skipping Box-Cox for column 'workingday' due to non-positive values.\n",
      "2024-11-28 09:31:11,783 - WARNING - Skipping Box-Cox for column 'dayofweek' due to non-positive values.\n",
      "2024-11-28 09:31:11,785 - INFO - Step 1/12: Handle missing values... (Elapsed time: 0.00 seconds)\n",
      "2024-11-28 09:31:11,787 - INFO - Step 2/12: Categorical transformations... (Elapsed time: 0.00 seconds)\n",
      "2024-11-28 09:31:11,803 - INFO - Step 3/12: Drop low variance features... (Elapsed time: 0.02 seconds)\n",
      "2024-11-28 09:31:11,809 - INFO - Step 4/12: Handle outliers... (Elapsed time: 0.02 seconds)\n",
      "2024-11-28 09:31:11,835 - INFO - Step 5/12: Box-Cox transformations... (Elapsed time: 0.05 seconds)\n",
      "2024-11-28 09:31:11,838 - WARNING - Skipping Box-Cox for column 'yr' due to non-positive values.\n",
      "2024-11-28 09:31:11,839 - WARNING - Skipping Box-Cox for column 'weekday' due to non-positive values.\n",
      "2024-11-28 09:31:11,844 - WARNING - Skipping Box-Cox for column 'dayofweek' due to non-positive values.\n",
      "2024-11-28 09:31:11,844 - WARNING - Skipping Box-Cox for column 'season_2' due to non-positive values.\n",
      "2024-11-28 09:31:11,846 - WARNING - Skipping Box-Cox for column 'season_3' due to non-positive values.\n",
      "2024-11-28 09:31:11,847 - WARNING - Skipping Box-Cox for column 'season_4' due to non-positive values.\n",
      "2024-11-28 09:31:11,848 - WARNING - Skipping Box-Cox for column 'weathersit_2' due to non-positive values.\n",
      "2024-11-28 09:31:11,849 - WARNING - Skipping Box-Cox for column 'weathersit_3' due to non-positive values.\n",
      "2024-11-28 09:31:11,850 - WARNING - Skipping Box-Cox for column 'holiday_1' due to non-positive values.\n",
      "2024-11-28 09:31:11,851 - WARNING - Skipping Box-Cox for column 'workingday_1' due to non-positive values.\n",
      "2024-11-28 09:31:11,852 - INFO - Step 6/12: Numeric transformations... (Elapsed time: 0.07 seconds)\n",
      "2024-11-28 09:31:11,897 - INFO - Step 7/12: Create interactions... (Elapsed time: 0.11 seconds)\n",
      "2024-11-28 09:31:16,504 - INFO - Step 8/12: Polynomial features... (Elapsed time: 4.72 seconds)\n",
      "2024-11-28 09:31:27,341 - INFO - Step 9/12: Combination features... (Elapsed time: 15.56 seconds)\n"
     ]
    }
   ],
   "source": [
    "# Ajustar e transformar os dados de treinamento\n",
    "X_train_transformed = fe.fit_transform(X_train, y_train)\n",
    "\n",
    "# Apenas transformar os dados de teste (sem ajustar os parâmetros novamente)\n",
    "X_test_transformed = fe.transform(X_test)\n",
    "\n",
    "# Verificar os dados transformados\n",
    "X_train_transformed.head()"
   ]
  },
  {
   "cell_type": "markdown",
   "id": "30c829d0-7634-439a-9fc7-db0015c0a9ed",
   "metadata": {},
   "source": [
    "# 6. Treinar um Modelo\n",
    "Treine um modelo simples para avaliar o impacto da engenharia de recursos."
   ]
  },
  {
   "cell_type": "code",
   "execution_count": null,
   "id": "0bdb1f37-4c85-4b80-a25c-484e07bf0e2e",
   "metadata": {},
   "outputs": [],
   "source": [
    "# Treinar um modelo de regressão (Random Forest)\n",
    "model = RandomForestRegressor(random_state=42)\n",
    "model.fit(X_train_transformed, y_train)\n",
    "\n",
    "# Fazer previsões no conjunto de teste\n",
    "y_pred = model.predict(X_test_transformed)\n",
    "\n",
    "# Avaliar o modelo\n",
    "mse = mean_squared_error(y_test, y_pred)\n",
    "print(f\"Mean Squared Error (MSE): {mse:.2f}\")"
   ]
  },
  {
   "cell_type": "markdown",
   "id": "5ffd79c9-41e6-49bc-9925-09ad04d2b166",
   "metadata": {},
   "source": [
    "# 7. Salvar os Transformadores e o Modelo\n",
    "Salve os transformadores e o modelo para uso futuro."
   ]
  },
  {
   "cell_type": "code",
   "execution_count": null,
   "id": "a90257f6-cddb-413e-81f0-46d1e21a710b",
   "metadata": {},
   "outputs": [],
   "source": [
    "# Salvar transformadores\n",
    "fe.save_transformers_dir = './transformers'\n",
    "fe.save_transformers(X_train_transformed)\n",
    "\n",
    "# Salvar o modelo\n",
    "import joblib\n",
    "joblib.dump(model, './model_rf.pkl')\n",
    "print(\"Transformadores e modelo salvos com sucesso.\")"
   ]
  }
 ],
 "metadata": {
  "kernelspec": {
   "display_name": "Python\n(timeseries_env)",
   "language": "python",
   "name": "timeseries_env"
  },
  "language_info": {
   "codemirror_mode": {
    "name": "ipython",
    "version": 3
   },
   "file_extension": ".py",
   "mimetype": "text/x-python",
   "name": "python",
   "nbconvert_exporter": "python",
   "pygments_lexer": "ipython3",
   "version": "3.12.3"
  }
 },
 "nbformat": 4,
 "nbformat_minor": 5
}
