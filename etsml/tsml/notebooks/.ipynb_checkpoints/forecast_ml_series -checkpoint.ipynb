{
 "cells": [
  {
   "cell_type": "markdown",
   "id": "82c4dd06-099a-42c0-b3c2-689a3be1b6a7",
   "metadata": {},
   "source": [
    "# Análise e Previsão de Séries Temporais com Python\n",
    "\n",
    "Este notebook aborda a configuração do ambiente, instalação de dependências, carregamento e pré-processamento de dados, treinamento de modelos preditivos e avaliação de desempenho em um conjunto de validação.\n",
    "\n",
    "---\n",
    "\n",
    "## 1. Verificação de Ambiente e Configuração Inicial\n",
    "\n",
    "Esta seção verifica se o ambiente de execução é o Google Colab e configura o diretório de trabalho para o projeto.\n"
   ]
  },
  {
   "cell_type": "code",
   "execution_count": 1,
   "id": "427A3VZKhtAq",
   "metadata": {
    "colab": {
     "base_uri": "https://localhost:8080/"
    },
    "executionInfo": {
     "elapsed": 2086,
     "status": "ok",
     "timestamp": 1732564354985,
     "user": {
      "displayName": "Eric Sena",
      "userId": "09989394858145352877"
     },
     "user_tz": 180
    },
    "id": "427A3VZKhtAq",
    "outputId": "d9a9e06f-36c7-4e6c-9f7f-70b4805a30c2"
   },
   "outputs": [
    {
     "name": "stdout",
     "output_type": "stream",
     "text": [
      "Não está em ambiente Colab. Skipping...\n"
     ]
    }
   ],
   "source": [
    "import os\n",
    "\n",
    "def setup_colab_environment(path):\n",
    "    try:\n",
    "        # Verifica se o módulo 'google.colab' está disponível\n",
    "        import google.colab\n",
    "        print(\"Executando no Google Colab.\")\n",
    "\n",
    "        # Monta o Google Drive\n",
    "        from google.colab import drive\n",
    "        drive.mount('/content/drive/')\n",
    "        # Caminho para a pasta desejada\n",
    "\n",
    "\n",
    "        # Substitua espaços por '\\ ' (escape) ao usar em comandos shell\n",
    "        escaped_path = path.replace(' ', '\\\\ ')\n",
    "        print(\"Path to use in shell commands:\", escaped_path)\n",
    "\n",
    "        # Alterar o diretório para essa pasta no Python\n",
    "        os.chdir(path)\n",
    "        print(f\"Diretório atual alterado para: {os.getcwd()}\")\n",
    "\n",
    "    except ImportError:\n",
    "        print(\"Não está em ambiente Colab. Skipping...\")\n",
    "        pass\n",
    "\n",
    "\n",
    "setup_colab_environment(path = '/content/drive/MyDrive/Domine a Previsão de Séries Temporais com Python')\n"
   ]
  },
  {
   "cell_type": "markdown",
   "id": "BJ12iHOH3Vfq",
   "metadata": {
    "id": "BJ12iHOH3Vfq"
   },
   "source": [
    "# 2. Instalação e Importação de Bibliotecas\n",
    "## 2.1. Instalação de dependências\n",
    "\n",
    "Instala as bibliotecas necessárias para a execução do projeto."
   ]
  },
  {
   "cell_type": "code",
   "execution_count": 2,
   "id": "xVnifhCIj5WB",
   "metadata": {
    "colab": {
     "base_uri": "https://localhost:8080/"
    },
    "executionInfo": {
     "elapsed": 7200,
     "status": "ok",
     "timestamp": 1732564362183,
     "user": {
      "displayName": "Eric Sena",
      "userId": "09989394858145352877"
     },
     "user_tz": 180
    },
    "id": "xVnifhCIj5WB",
    "outputId": "44fce644-ab0a-4802-e92f-a2a12e42161f"
   },
   "outputs": [],
   "source": [
    "#!pip install -r requirements.txt"
   ]
  },
  {
   "cell_type": "markdown",
   "id": "47513b3a-43a9-433c-bee9-304d9dd53c77",
   "metadata": {},
   "source": [
    "## 2.2. Importação de bibliotecas\n",
    "\n",
    "Importa as bibliotecas essenciais para manipulação de dados, visualização e modelagem."
   ]
  },
  {
   "cell_type": "code",
   "execution_count": 3,
   "id": "9cb374b8-fff2-442c-ac13-03023d2487b0",
   "metadata": {
    "executionInfo": {
     "elapsed": 1441,
     "status": "ok",
     "timestamp": 1732564363621,
     "user": {
      "displayName": "Eric Sena",
      "userId": "09989394858145352877"
     },
     "user_tz": 180
    },
    "id": "9cb374b8-fff2-442c-ac13-03023d2487b0"
   },
   "outputs": [],
   "source": [
    "import os\n",
    "import pandas as pd\n",
    "import numpy as np\n",
    "import matplotlib.pyplot as plt\n",
    "import seaborn as sns\n",
    "from sklearn.model_selection import TimeSeriesSplit, GridSearchCV\n",
    "from sklearn.metrics import mean_absolute_error, mean_squared_error, r2_score\n",
    "import matplotlib.pyplot as plt\n",
    "from statsmodels.tsa.seasonal import seasonal_decompose"
   ]
  },
  {
   "cell_type": "code",
   "execution_count": 4,
   "id": "b04e5b3a-709c-4ba7-92cf-ceab405fd877",
   "metadata": {},
   "outputs": [],
   "source": [
    "# Importações das bibliotecas customizadas\n",
    "from tsml.models.time_series_model_trainer import TSModelTrainer\n",
    "from tsml.utils.fix_params import fix_params\n",
    "from tsml.feature_selection.evaluate_feature_selection import evaluate_feature_selection\n",
    "from tsml.utils.elearning_tools import plot_correlation_heatmap"
   ]
  },
  {
   "cell_type": "markdown",
   "id": "4569a4f2-abc8-42e8-b41b-7821b35231ce",
   "metadata": {
    "id": "4569a4f2-abc8-42e8-b41b-7821b35231ce"
   },
   "source": [
    "# 3. Carregamento e Pré-processamento de Dados\n",
    "## 3.1. Carregamento dos dados\n",
    "\n",
    "Carrega o conjunto de dados do diretório especificado."
   ]
  },
  {
   "cell_type": "code",
   "execution_count": 5,
   "id": "84ffcc42-13a8-4bc4-bccf-919ca049a376",
   "metadata": {
    "executionInfo": {
     "elapsed": 10,
     "status": "ok",
     "timestamp": 1732564363621,
     "user": {
      "displayName": "Eric Sena",
      "userId": "09989394858145352877"
     },
     "user_tz": 180
    },
    "id": "84ffcc42-13a8-4bc4-bccf-919ca049a376"
   },
   "outputs": [],
   "source": [
    "# Carregar os dados\n",
    "data_dir = os.path.join('.', './tsml/datasets')\n",
    "data_file = os.path.join(data_dir, 'day.csv')\n",
    "data = pd.read_csv(data_file)"
   ]
  },
  {
   "cell_type": "markdown",
   "id": "ed0851be-b288-43f8-bc7f-a519926fd3ff",
   "metadata": {},
   "source": [
    "## 3.2. Pré-processamento dos dados\n",
    "\n",
    "Realiza transformações, filtragem, codificação de variáveis categóricas e separação em conjuntos de treinamento e validação."
   ]
  },
  {
   "cell_type": "code",
   "execution_count": 6,
   "id": "b5c8f8e2-27d4-47ae-b6c9-244a55364332",
   "metadata": {},
   "outputs": [],
   "source": [
    "# Pré-processar os dados de treinamento\n",
    "# Converter a coluna 'dteday' para datetime\n",
    "data['dteday'] = pd.to_datetime(data['dteday'])\n",
    "\n",
    "# Definir colunas categóricas\n",
    "categorical_cols = ['season', 'weathersit', 'holiday', 'workingday']\n",
    "\n",
    "# Criar variáveis dummy (mantendo as categorias dummies geradas)\n",
    "data = pd.get_dummies(data, columns=categorical_cols, drop_first=True)\n",
    "\n",
    "# Obter os nomes das novas colunas geradas\n",
    "dummy_columns = [col for col in data.columns if any(cat in col for cat in categorical_cols)]\n",
    "\n",
    "# Extrair características numéricas da data\n",
    "data['year'] = data['dteday'].dt.year\n",
    "data['month'] = data['dteday'].dt.month\n",
    "data['day'] = data['dteday'].dt.day\n",
    "data['dayofweek'] = data['dteday'].dt.dayofweek\n",
    "\n",
    "# Remover a coluna original de data\n",
    "data.drop('dteday', axis=1, inplace=True)\n"
   ]
  },
  {
   "cell_type": "code",
   "execution_count": 7,
   "id": "693d83a3-fbad-45d2-a188-80e04a1acbcd",
   "metadata": {},
   "outputs": [
    {
     "name": "stdout",
     "output_type": "stream",
     "text": [
      "Colunas selecionadas: ['instant', 'yr', 'temp', 'atemp', 'casual', 'year', 'cnt']\n"
     ]
    }
   ],
   "source": [
    "# Definir os thresholds de correlação\n",
    "threshold_min = 0.5\n",
    "threshold_max = 0.9\n",
    "\n",
    "# Definir a variável-alvo\n",
    "target_col = 'cnt'  # Substitua pelo nome da variável-alvo, se necessário\n",
    "\n",
    "# Excluir as colunas categóricas antes de calcular a matriz de correlação\n",
    "data_for_correlation = data.drop(columns=dummy_columns)\n",
    "\n",
    "# Calcular a matriz de correlação\n",
    "correlation_matrix = data_for_correlation.corr()\n",
    "\n",
    "# Filtrar as colunas com correlação absoluta dentro dos thresholds em relação à variável-alvo\n",
    "selected_columns = correlation_matrix.index[\n",
    "    (abs(correlation_matrix[target_col]) >= threshold_min) & (abs(correlation_matrix[target_col]) <= threshold_max)\n",
    "].tolist()\n",
    "\n",
    "# Garantir que a variável target_col esteja nos selecionados\n",
    "if target_col not in selected_columns:\n",
    "    selected_columns.append(target_col)\n",
    "\n",
    "# Filtrar o DataFrame original com base nas colunas selecionadas\n",
    "filtered_data = data[selected_columns+dummy_columns]\n",
    "\n",
    "# Exibir o resultado\n",
    "print(f\"Colunas selecionadas: {selected_columns}\")"
   ]
  },
  {
   "cell_type": "code",
   "execution_count": 8,
   "id": "7d4ef8b4-01b6-4894-beaa-569df70c0ef3",
   "metadata": {},
   "outputs": [
    {
     "data": {
      "image/png": "[encoded data removed]",
      "text/plain": [
       "<Figure size 2500x2000 with 2 Axes>"
      ]
     },
     "metadata": {},
     "output_type": "display_data"
    }
   ],
   "source": [
    "# Gerar o heatmap com as colunas filtradas\n",
    "plot_correlation_heatmap(filtered_data[selected_columns])"
   ]
  },
  {
   "cell_type": "code",
   "execution_count": 9,
   "id": "7a2d9587-06e9-4e4d-9fe7-f2ad89491f95",
   "metadata": {},
   "outputs": [],
   "source": [
    "# Garantir que todas as colunas dummies categóricas sejam mantidas\n",
    "dummy_columns = [col for col in data.columns if any(cat in col for cat in categorical_cols)]\n",
    "selected_columns.extend([col for col in dummy_columns if col not in selected_columns])\n",
    "\n",
    "# Reservar os últimos 10% dos dados para validação\n",
    "total_observations = len(filtered_data)\n",
    "validation_size = int(0.1 * total_observations)\n",
    "validation_start_index = total_observations - validation_size\n",
    "\n",
    "train = filtered_data.iloc[:validation_start_index]\n",
    "validation = filtered_data.iloc[validation_start_index:]"
   ]
  },
  {
   "cell_type": "code",
   "execution_count": 10,
   "id": "357d2e6b-b9a6-44b2-973a-a6d9b90c30cb",
   "metadata": {
    "colab": {
     "base_uri": "https://localhost:8080/",
     "height": 236
    },
    "executionInfo": {
     "elapsed": 10,
     "status": "ok",
     "timestamp": 1732564363622,
     "user": {
      "displayName": "Eric Sena",
      "userId": "09989394858145352877"
     },
     "user_tz": 180
    },
    "id": "357d2e6b-b9a6-44b2-973a-a6d9b90c30cb",
    "outputId": "03b449c7-fc34-4f19-cfea-8d94b3d36c25"
   },
   "outputs": [
    {
     "data": {
      "text/html": [
       "<div>\n",
       "<style scoped>\n",
       "    .dataframe tbody tr th:only-of-type {\n",
       "        vertical-align: middle;\n",
       "    }\n",
       "\n",
       "    .dataframe tbody tr th {\n",
       "        vertical-align: top;\n",
       "    }\n",
       "\n",
       "    .dataframe thead th {\n",
       "        text-align: right;\n",
       "    }\n",
       "</style>\n",
       "<table border=\"1\" class=\"dataframe\">\n",
       "  <thead>\n",
       "    <tr style=\"text-align: right;\">\n",
       "      <th></th>\n",
       "      <th>instant</th>\n",
       "      <th>yr</th>\n",
       "      <th>temp</th>\n",
       "      <th>atemp</th>\n",
       "      <th>casual</th>\n",
       "      <th>year</th>\n",
       "      <th>cnt</th>\n",
       "      <th>season_2</th>\n",
       "      <th>season_3</th>\n",
       "      <th>season_4</th>\n",
       "      <th>weathersit_2</th>\n",
       "      <th>weathersit_3</th>\n",
       "      <th>holiday_1</th>\n",
       "      <th>workingday_1</th>\n",
       "    </tr>\n",
       "  </thead>\n",
       "  <tbody>\n",
       "    <tr>\n",
       "      <th>0</th>\n",
       "      <td>1</td>\n",
       "      <td>0</td>\n",
       "      <td>0.344167</td>\n",
       "      <td>0.363625</td>\n",
       "      <td>331</td>\n",
       "      <td>2011</td>\n",
       "      <td>985</td>\n",
       "      <td>0</td>\n",
       "      <td>0</td>\n",
       "      <td>0</td>\n",
       "      <td>1</td>\n",
       "      <td>0</td>\n",
       "      <td>0</td>\n",
       "      <td>0</td>\n",
       "    </tr>\n",
       "    <tr>\n",
       "      <th>1</th>\n",
       "      <td>2</td>\n",
       "      <td>0</td>\n",
       "      <td>0.363478</td>\n",
       "      <td>0.353739</td>\n",
       "      <td>131</td>\n",
       "      <td>2011</td>\n",
       "      <td>801</td>\n",
       "      <td>0</td>\n",
       "      <td>0</td>\n",
       "      <td>0</td>\n",
       "      <td>1</td>\n",
       "      <td>0</td>\n",
       "      <td>0</td>\n",
       "      <td>0</td>\n",
       "    </tr>\n",
       "    <tr>\n",
       "      <th>2</th>\n",
       "      <td>3</td>\n",
       "      <td>0</td>\n",
       "      <td>0.196364</td>\n",
       "      <td>0.189405</td>\n",
       "      <td>120</td>\n",
       "      <td>2011</td>\n",
       "      <td>1349</td>\n",
       "      <td>0</td>\n",
       "      <td>0</td>\n",
       "      <td>0</td>\n",
       "      <td>0</td>\n",
       "      <td>0</td>\n",
       "      <td>0</td>\n",
       "      <td>1</td>\n",
       "    </tr>\n",
       "    <tr>\n",
       "      <th>3</th>\n",
       "      <td>4</td>\n",
       "      <td>0</td>\n",
       "      <td>0.200000</td>\n",
       "      <td>0.212122</td>\n",
       "      <td>108</td>\n",
       "      <td>2011</td>\n",
       "      <td>1562</td>\n",
       "      <td>0</td>\n",
       "      <td>0</td>\n",
       "      <td>0</td>\n",
       "      <td>0</td>\n",
       "      <td>0</td>\n",
       "      <td>0</td>\n",
       "      <td>1</td>\n",
       "    </tr>\n",
       "    <tr>\n",
       "      <th>4</th>\n",
       "      <td>5</td>\n",
       "      <td>0</td>\n",
       "      <td>0.226957</td>\n",
       "      <td>0.229270</td>\n",
       "      <td>82</td>\n",
       "      <td>2011</td>\n",
       "      <td>1600</td>\n",
       "      <td>0</td>\n",
       "      <td>0</td>\n",
       "      <td>0</td>\n",
       "      <td>0</td>\n",
       "      <td>0</td>\n",
       "      <td>0</td>\n",
       "      <td>1</td>\n",
       "    </tr>\n",
       "  </tbody>\n",
       "</table>\n",
       "</div>"
      ],
      "text/plain": [
       "   instant  yr      temp     atemp  casual  year   cnt  season_2  season_3  \\\n",
       "0        1   0  0.344167  0.363625     331  2011   985         0         0   \n",
       "1        2   0  0.363478  0.353739     131  2011   801         0         0   \n",
       "2        3   0  0.196364  0.189405     120  2011  1349         0         0   \n",
       "3        4   0  0.200000  0.212122     108  2011  1562         0         0   \n",
       "4        5   0  0.226957  0.229270      82  2011  1600         0         0   \n",
       "\n",
       "   season_4  weathersit_2  weathersit_3  holiday_1  workingday_1  \n",
       "0         0             1             0          0             0  \n",
       "1         0             1             0          0             0  \n",
       "2         0             0             0          0             1  \n",
       "3         0             0             0          0             1  \n",
       "4         0             0             0          0             1  "
      ]
     },
     "execution_count": 10,
     "metadata": {},
     "output_type": "execute_result"
    }
   ],
   "source": [
    "train.head()"
   ]
  },
  {
   "cell_type": "code",
   "execution_count": 11,
   "id": "a7f298ad-8ffa-4632-af9c-8738486e26be",
   "metadata": {
    "colab": {
     "base_uri": "https://localhost:8080/",
     "height": 236
    },
    "executionInfo": {
     "elapsed": 9,
     "status": "ok",
     "timestamp": 1732564363622,
     "user": {
      "displayName": "Eric Sena",
      "userId": "09989394858145352877"
     },
     "user_tz": 180
    },
    "id": "a7f298ad-8ffa-4632-af9c-8738486e26be",
    "outputId": "2372f252-1c68-49d3-e99b-4f77abb2bfa3"
   },
   "outputs": [
    {
     "data": {
      "text/html": [
       "<div>\n",
       "<style scoped>\n",
       "    .dataframe tbody tr th:only-of-type {\n",
       "        vertical-align: middle;\n",
       "    }\n",
       "\n",
       "    .dataframe tbody tr th {\n",
       "        vertical-align: top;\n",
       "    }\n",
       "\n",
       "    .dataframe thead th {\n",
       "        text-align: right;\n",
       "    }\n",
       "</style>\n",
       "<table border=\"1\" class=\"dataframe\">\n",
       "  <thead>\n",
       "    <tr style=\"text-align: right;\">\n",
       "      <th></th>\n",
       "      <th>instant</th>\n",
       "      <th>yr</th>\n",
       "      <th>temp</th>\n",
       "      <th>atemp</th>\n",
       "      <th>casual</th>\n",
       "      <th>year</th>\n",
       "      <th>cnt</th>\n",
       "      <th>season_2</th>\n",
       "      <th>season_3</th>\n",
       "      <th>season_4</th>\n",
       "      <th>weathersit_2</th>\n",
       "      <th>weathersit_3</th>\n",
       "      <th>holiday_1</th>\n",
       "      <th>workingday_1</th>\n",
       "    </tr>\n",
       "  </thead>\n",
       "  <tbody>\n",
       "    <tr>\n",
       "      <th>658</th>\n",
       "      <td>659</td>\n",
       "      <td>1</td>\n",
       "      <td>0.484167</td>\n",
       "      <td>0.472842</td>\n",
       "      <td>2806</td>\n",
       "      <td>2012</td>\n",
       "      <td>8090</td>\n",
       "      <td>0</td>\n",
       "      <td>0</td>\n",
       "      <td>1</td>\n",
       "      <td>0</td>\n",
       "      <td>0</td>\n",
       "      <td>0</td>\n",
       "      <td>0</td>\n",
       "    </tr>\n",
       "    <tr>\n",
       "      <th>659</th>\n",
       "      <td>660</td>\n",
       "      <td>1</td>\n",
       "      <td>0.464167</td>\n",
       "      <td>0.456429</td>\n",
       "      <td>2132</td>\n",
       "      <td>2012</td>\n",
       "      <td>6824</td>\n",
       "      <td>0</td>\n",
       "      <td>0</td>\n",
       "      <td>1</td>\n",
       "      <td>0</td>\n",
       "      <td>0</td>\n",
       "      <td>0</td>\n",
       "      <td>0</td>\n",
       "    </tr>\n",
       "    <tr>\n",
       "      <th>660</th>\n",
       "      <td>661</td>\n",
       "      <td>1</td>\n",
       "      <td>0.487500</td>\n",
       "      <td>0.482942</td>\n",
       "      <td>830</td>\n",
       "      <td>2012</td>\n",
       "      <td>7058</td>\n",
       "      <td>0</td>\n",
       "      <td>0</td>\n",
       "      <td>1</td>\n",
       "      <td>0</td>\n",
       "      <td>0</td>\n",
       "      <td>0</td>\n",
       "      <td>1</td>\n",
       "    </tr>\n",
       "    <tr>\n",
       "      <th>661</th>\n",
       "      <td>662</td>\n",
       "      <td>1</td>\n",
       "      <td>0.544167</td>\n",
       "      <td>0.530304</td>\n",
       "      <td>841</td>\n",
       "      <td>2012</td>\n",
       "      <td>7466</td>\n",
       "      <td>0</td>\n",
       "      <td>0</td>\n",
       "      <td>1</td>\n",
       "      <td>0</td>\n",
       "      <td>0</td>\n",
       "      <td>0</td>\n",
       "      <td>1</td>\n",
       "    </tr>\n",
       "    <tr>\n",
       "      <th>662</th>\n",
       "      <td>663</td>\n",
       "      <td>1</td>\n",
       "      <td>0.587500</td>\n",
       "      <td>0.558721</td>\n",
       "      <td>795</td>\n",
       "      <td>2012</td>\n",
       "      <td>7693</td>\n",
       "      <td>0</td>\n",
       "      <td>0</td>\n",
       "      <td>1</td>\n",
       "      <td>0</td>\n",
       "      <td>0</td>\n",
       "      <td>0</td>\n",
       "      <td>1</td>\n",
       "    </tr>\n",
       "  </tbody>\n",
       "</table>\n",
       "</div>"
      ],
      "text/plain": [
       "     instant  yr      temp     atemp  casual  year   cnt  season_2  season_3  \\\n",
       "658      659   1  0.484167  0.472842    2806  2012  8090         0         0   \n",
       "659      660   1  0.464167  0.456429    2132  2012  6824         0         0   \n",
       "660      661   1  0.487500  0.482942     830  2012  7058         0         0   \n",
       "661      662   1  0.544167  0.530304     841  2012  7466         0         0   \n",
       "662      663   1  0.587500  0.558721     795  2012  7693         0         0   \n",
       "\n",
       "     season_4  weathersit_2  weathersit_3  holiday_1  workingday_1  \n",
       "658         1             0             0          0             0  \n",
       "659         1             0             0          0             0  \n",
       "660         1             0             0          0             1  \n",
       "661         1             0             0          0             1  \n",
       "662         1             0             0          0             1  "
      ]
     },
     "execution_count": 11,
     "metadata": {},
     "output_type": "execute_result"
    }
   ],
   "source": [
    "validation.head()"
   ]
  },
  {
   "cell_type": "markdown",
   "id": "0c804695-d273-40ae-b17b-39eb9bb0f0c7",
   "metadata": {
    "executionInfo": {
     "elapsed": 2557,
     "status": "ok",
     "timestamp": 1732564366171,
     "user": {
      "displayName": "Eric Sena",
      "userId": "09989394858145352877"
     },
     "user_tz": 180
    },
    "id": "16c3f10b-f6a1-4013-b1fc-56b4698d180b"
   },
   "source": [
    "# 4. Configuração e Treinamento de Modelos\n",
    "## 4.1. Escolha do dataset e definição das colunas\n",
    "\n",
    "Seleciona as features e o alvo para o treinamento."
   ]
  },
  {
   "cell_type": "code",
   "execution_count": 12,
   "id": "4a3813e4-ddda-4c07-965f-4a318fc6ffb7",
   "metadata": {
    "executionInfo": {
     "elapsed": 3,
     "status": "ok",
     "timestamp": 1732564366172,
     "user": {
      "displayName": "Eric Sena",
      "userId": "09989394858145352877"
     },
     "user_tz": 180
    },
    "id": "4a3813e4-ddda-4c07-965f-4a318fc6ffb7"
   },
   "outputs": [],
   "source": [
    "# Escolha o dataset que você deseja usar\n",
    "df = train  # ou daily_data\n",
    "feature_cols = [col for col in df.columns if col not in [target_col]]"
   ]
  },
  {
   "cell_type": "markdown",
   "id": "6fba2e4a-963d-42fa-a2a0-696f09907933",
   "metadata": {},
   "source": [
    "## 4.2. Definição de parâmetros e modelos\n",
    "\n",
    "Configura os parâmetros para o treinamento dos modelos."
   ]
  },
  {
   "cell_type": "code",
   "execution_count": 13,
   "id": "05535a2c-8129-4814-8c65-078a6e13d90b",
   "metadata": {
    "executionInfo": {
     "elapsed": 4928,
     "status": "ok",
     "timestamp": 1732564371097,
     "user": {
      "displayName": "Eric Sena",
      "userId": "09989394858145352877"
     },
     "user_tz": 180
    },
    "id": "05535a2c-8129-4814-8c65-078a6e13d90b"
   },
   "outputs": [],
   "source": [
    "# Preparar os parâmetros\n",
    "keeping_models = [\n",
    "    'lr',  # LinearRegression\n",
    "    'ridge',  # Ridge\n",
    "    #'huber',  # HuberRegressor\n",
    "    'ard',  # ARDRegression\n",
    "    #'bayesian_ridge',  # BayesianRidge\n",
    "    'dtr',  # DecisionTreeRegressor\n",
    "]\n",
    "models_params, feature_cols, target_col, _ = fix_params(\n",
    "    df=df,\n",
    "    target_col=target_col,\n",
    "    n_features_to_select=None,\n",
    "    keeping_models=keeping_models  # Especifica os modelos a serem mantidos\n",
    ")"
   ]
  },
  {
   "cell_type": "markdown",
   "id": "d3219811-7e85-4aeb-8b31-bafba31fde48",
   "metadata": {},
   "source": [
    "## 4.3. Treinamento dos modelos\n",
    "\n",
    "Treina diferentes modelos preditivos com validação cruzada."
   ]
  },
  {
   "cell_type": "code",
   "execution_count": 16,
   "id": "3bbbbeb8-3aa2-47fd-83f3-955234c31007",
   "metadata": {
    "executionInfo": {
     "elapsed": 4,
     "status": "ok",
     "timestamp": 1732564371098,
     "user": {
      "displayName": "Eric Sena",
      "userId": "09989394858145352877"
     },
     "user_tz": 180
    },
    "id": "3bbbbeb8-3aa2-47fd-83f3-955234c31007"
   },
   "outputs": [],
   "source": [
    "# Instanciar o treinador com seleção de features\n",
    "trainer = TSModelTrainer(\n",
    "    models_params=models_params,\n",
    "    df=df,\n",
    "    feature_cols=feature_cols,\n",
    "    target_col=target_col,\n",
    "    metric='mse',\n",
    "    n_splits=3,\n",
    "    n_features_to_select=2,\n",
    "    reserved_data=True\n",
    ")"
   ]
  },
  {
   "cell_type": "code",
   "execution_count": null,
   "id": "bba2ef23-972b-452f-9a0d-27e35bf24a43",
   "metadata": {
    "colab": {
     "base_uri": "https://localhost:8080/"
    },
    "id": "bba2ef23-972b-452f-9a0d-27e35bf24a43",
    "outputId": "053fc3c3-b1c4-453b-c934-056d76d09222"
   },
   "outputs": [
    {
     "name": "stdout",
     "output_type": "stream",
     "text": [
      "Treinando lr...\n",
      "Avaliação do Modelo LR || MSE = 2936054.06314, RMSE = 1713.49178, MAE = 1500.1041, R2 = -1.35958, Combined Score = 734817.50465, Score = 1239201.3717788327\n",
      "Treinando ridge...\n",
      "Avaliação do Modelo RIDGE || MSE = 2936155.81908, RMSE = 1713.52147, MAE = 1500.13357, R2 = -1.35967, Combined Score = 734842.95844, Score = 1239268.1903270201\n",
      "Treinando dtr...\n"
     ]
    }
   ],
   "source": [
    "# Treine os modelos\n",
    "trainer.train_models()"
   ]
  },
  {
   "cell_type": "markdown",
   "id": "40254afa-c36c-407e-b557-f4515e0a3153",
   "metadata": {},
   "source": [
    "# 5. Avaliação de Modelos\n",
    "## 5.1. Importância das features\n",
    "\n",
    "Plota a importância das variáveis no modelo."
   ]
  },
  {
   "cell_type": "code",
   "execution_count": null,
   "id": "bfc231bb-1da4-4f08-99a8-00483cde6905",
   "metadata": {
    "id": "bfc231bb-1da4-4f08-99a8-00483cde6905"
   },
   "outputs": [],
   "source": [
    "# Plotar a importância das features\n",
    "trainer.plot_feature_importance()"
   ]
  },
  {
   "cell_type": "markdown",
   "id": "0b4c7bf2-69c1-45c5-8053-918b5ecb523d",
   "metadata": {},
   "source": [
    "## 5.2. Previsões vs. valores reais\n",
    "\n",
    "Compara as previsões dos modelos com os valores reais no conjunto de teste."
   ]
  },
  {
   "cell_type": "code",
   "execution_count": null,
   "id": "916e0cb5-c62a-4ca7-9c8f-11b5186cb6dd",
   "metadata": {
    "id": "916e0cb5-c62a-4ca7-9c8f-11b5186cb6dd"
   },
   "outputs": [],
   "source": [
    "# Plotar previsões vs. valores reais no conjunto de teste\n",
    "trainer.plot_predictions_vs_actual(only_reserved_data=True)"
   ]
  },
  {
   "cell_type": "markdown",
   "id": "7244166a-e5ef-411c-b5a5-b693ea572513",
   "metadata": {},
   "source": [
    "## 5.3. Análise de resíduos\n",
    "\n",
    "Examina os resíduos do melhor modelo."
   ]
  },
  {
   "cell_type": "code",
   "execution_count": null,
   "id": "b4ca5b20-45eb-42d5-9cac-5c00d8cca8c6",
   "metadata": {
    "id": "b4ca5b20-45eb-42d5-9cac-5c00d8cca8c6"
   },
   "outputs": [],
   "source": [
    "# Analisar resíduos do melhor modelo\n",
    "trainer.analyze_residuals(only_reserved_data=True)"
   ]
  },
  {
   "cell_type": "markdown",
   "id": "2f09c3e1-ca02-4a8f-befd-a04fb248f300",
   "metadata": {},
   "source": [
    "## 5.4. Comparação de desempenho dos modelos\n",
    "\n",
    "Exibe os resultados comparativos de desempenho dos modelos."
   ]
  },
  {
   "cell_type": "code",
   "execution_count": null,
   "id": "d781598e-fef0-4328-ab70-a1eb75daa0e1",
   "metadata": {
    "id": "d781598e-fef0-4328-ab70-a1eb75daa0e1",
    "scrolled": true
   },
   "outputs": [],
   "source": [
    "# Comparar todos os modelos treinados\n",
    "trainer.plot_model_comparisons()"
   ]
  },
  {
   "cell_type": "code",
   "execution_count": null,
   "id": "8c98e045-0bc9-4e9a-865e-e334c30dfba4",
   "metadata": {
    "id": "8c98e045-0bc9-4e9a-865e-e334c30dfba4"
   },
   "outputs": [],
   "source": [
    "# Acessar a tabela de desempenho\n",
    "print(\"Tabela de Desempenho dos Modelos:\")\n",
    "print(trainer.performance_table)"
   ]
  },
  {
   "cell_type": "markdown",
   "id": "91400d75-f236-43a0-bd68-007550818927",
   "metadata": {
    "id": "68ba7644-7653-4fd4-aa75-a9f49879c64d"
   },
   "source": [
    "## 6. Avaliação da Seleção de Features\n",
    "# 6.1. Identificação do melhor conjunto de features\n",
    "\n",
    "Utiliza um método de seleção de variáveis para identificar as features mais importantes e avaliar o impacto no desempenho do modelo."
   ]
  },
  {
   "cell_type": "code",
   "execution_count": null,
   "id": "fa43a0bf-3c3f-4cbd-aaf8-9e6a80fb7409",
   "metadata": {
    "id": "fa43a0bf-3c3f-4cbd-aaf8-9e6a80fb7409"
   },
   "outputs": [],
   "source": [
    "# Avaliar a seleção de features\n",
    "tab, first_best_features, second_best_features = evaluate_feature_selection(\n",
    "    df=trainer.df,\n",
    "    model=trainer,\n",
    "    target_col=target_col,\n",
    ")\n",
    "\n",
    "print(\"Melhor Conjunto de Features:\", first_best_features)"
   ]
  },
  {
   "cell_type": "markdown",
   "id": "f3ceb411-1114-4ccd-8bd1-6bf69e8956ff",
   "metadata": {},
   "source": [
    "## 7. Previsões com Dados de Validação\n",
    "# 7.1. Preparação do conjunto de validação\n",
    "\n",
    "Garante que as features do conjunto de validação estejam alinhadas com as utilizadas no treinamento."
   ]
  },
  {
   "cell_type": "code",
   "execution_count": null,
   "id": "691505c1-ebd4-4373-8875-a861914778da",
   "metadata": {
    "id": "691505c1-ebd4-4373-8875-a861914778da"
   },
   "outputs": [],
   "source": [
    "# Garantir que todas as features estão presentes\n",
    "validation_data = validation\n",
    "missing_features = set(feature_cols) - set(validation_data.columns)\n",
    "for feature in missing_features:\n",
    "    validation_data[feature] = 0  # Ou outro valor apropriado\n",
    "\n",
    "validation_data = validation_data[feature_cols + [target_col]]\n",
    "\n",
    "# Extrair features e alvo\n",
    "X_validation = validation_data[feature_cols].values\n",
    "y_validation = validation_data[target_col].values"
   ]
  },
  {
   "cell_type": "markdown",
   "id": "152e969e-df6e-445c-bbd5-9ab718fb0d0e",
   "metadata": {},
   "source": [
    "## 7.2. Realização de previsões nos dados de validação\n",
    "\n",
    "Aplica o modelo treinado ao conjunto de validação (não utilizado no treinamento) e avalia o desempenho."
   ]
  },
  {
   "cell_type": "code",
   "execution_count": null,
   "id": "d7511f0b-2d26-4f71-831e-1d34bbcbc8ae",
   "metadata": {},
   "outputs": [],
   "source": [
    "# Fazer previsões nos dados de validação\n",
    "y_pred_validation = trainer.best_model.predict(X_validation)"
   ]
  },
  {
   "cell_type": "markdown",
   "id": "d3a008df-a79e-4404-94b8-60fa5164fd9b",
   "metadata": {},
   "source": [
    "## 7.3. Visualização das previsões vs. valores reais\n",
    "\n",
    "Plota os valores reais e previstos do conjunto de validaçã"
   ]
  },
  {
   "cell_type": "code",
   "execution_count": null,
   "id": "157b4fe4-aea4-464f-9f2a-57b08ac33fd4",
   "metadata": {},
   "outputs": [],
   "source": [
    "print(\"Desempenho do Modelo Final no Conjunto de Validação:\")\n",
    "print(f\"MSE: {mse}\")\n",
    "print(f\"MAE: {mae}\")\n",
    "print(f\"R2 Score: {r2}\")\n",
    "\n",
    "\n",
    "# Avaliar o desempenho\n",
    "mse = mean_squared_error(y_validation, y_pred_validation)\n",
    "mae = mean_absolute_error(y_validation, y_pred_validation)\n",
    "r2 = r2_score(y_validation, y_pred_validation)\n",
    "\n",
    "# Plotar previsões vs. valores reais\n",
    "plt.figure(figsize=(10, 6))\n",
    "plt.plot(validation_data.index, y_validation, label='Real')\n",
    "plt.plot(validation_data.index, y_pred_validation, label='Previsto')\n",
    "plt.xlabel('Índice')\n",
    "plt.ylabel(target_col)\n",
    "plt.title('Previsões do Modelo vs. Valores Reais no Conjunto de Validação')\n",
    "plt.legend()\n",
    "plt.show()"
   ]
  },
  {
   "cell_type": "markdown",
   "id": "d3c84670-6220-4bff-91eb-06d677de2390",
   "metadata": {},
   "source": [
    "# 8. Conclusão\n",
    "\n",
    "Resumo dos principais resultados e próximas etapas."
   ]
  },
  {
   "cell_type": "code",
   "execution_count": null,
   "id": "dac5adc6-d948-421c-99ae-45f11c48c8c3",
   "metadata": {},
   "outputs": [],
   "source": []
  }
 ],
 "metadata": {
  "accelerator": "GPU",
  "colab": {
   "gpuType": "T4",
   "provenance": []
  },
  "kernelspec": {
   "display_name": "Python\n(timeseries_env)",
   "language": "python",
   "name": "timeseries_env"
  },
  "language_info": {
   "codemirror_mode": {
    "name": "ipython",
    "version": 3
   },
   "file_extension": ".py",
   "mimetype": "text/x-python",
   "name": "python",
   "nbconvert_exporter": "python",
   "pygments_lexer": "ipython3",
   "version": "3.12.3"
  }
 },
 "nbformat": 4,
 "nbformat_minor": 5
}
