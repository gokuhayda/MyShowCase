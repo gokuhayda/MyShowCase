{
 "cells": [
  {
   "cell_type": "markdown",
   "id": "ffc26515-e4aa-4f7e-b4a9-60df1b72ffaa",
   "metadata": {},
   "source": [
    "# Forecasting Methodology\n",
    "\n",
    "## **Methodology:**  \n",
    "Exogenous Time Series Forecasting with ARIMA and SARIMAX.  \n",
    "This approach involves leveraging historical data to predict the future behavior of a target variable while incorporating exogenous features to improve model accuracy.\n",
    "\n",
    "---\n",
    "\n",
    "## **Data Division**\n",
    "- **Split the Dataset:**\n",
    "    - Divide the dataset into training and testing sets based on a `train_size` parameter.\n",
    "    - Ensure the test set is reserved for out-of-sample evaluation.\n",
    "\n",
    "---\n",
    "\n",
    "## **ARIMA Modeling**\n",
    "1. **Automatic Order Selection:**\n",
    "    - Use `auto_arima` to automatically determine the optimal `(p, d, q)` parameters for the ARIMA model.\n",
    "    - Include exogenous variables for better modeling of the target variable.\n",
    "\n",
    "2. **Model Training:**\n",
    "    - Fit a SARIMAX (Seasonal ARIMA with Exogenous Variables) model to the training data using the selected parameters.\n",
    "    - Incorporate relevant exogenous features identified during data preprocessing.\n",
    "\n",
    "---\n",
    "\n",
    "## **Predictions and Assessment**\n",
    "1. **Generate Predictions:**\n",
    "    - Predict values for the training and test datasets using the trained SARIMAX model.\n",
    "    - Optionally, generate predictions for future time steps based on provided exogenous forecasts.\n",
    "\n",
    "2. **Evaluate Performance:**\n",
    "    - Compute key performance metrics:\n",
    "        - **MSE** (Mean Squared Error)\n",
    "        - **RMSE** (Root Mean Squared Error)\n",
    "        - **MAE** (Mean Absolute Error)\n",
    "        - **R²** (Coefficient of Determination)\n",
    "\n",
    "---\n",
    "\n",
    "## **Exogenous Variable Prediction**\n",
    "1. **Optimal Lags Selection:**\n",
    "    - Determine the most significant lag for each exogenous variable using `auto_arima` or correlation analysis.\n",
    "    - Add these lagged variables as features to the dataset.\n",
    "\n",
    "2. **Exogenous Forecasting:**\n",
    "    - Train machine learning models or ARIMA models for predicting exogenous variables.\n",
    "    - Use methods like GridSearchCV or auto_arima to select the best-performing model based on metrics like MSE.\n",
    "\n",
    "3. **Future Exogenous Forecasts:**\n",
    "    - Predict future values of the exogenous variables to serve as inputs for forecasting the target variable.\n",
    "\n",
    "---\n",
    "\n",
    "## **Future Forecast**\n",
    "- Generate multi-step forecasts of the target variable by leveraging future predictions of exogenous features and extending the SARIMAX model.\n",
    "\n",
    "---\n",
    "\n",
    "## **Visualization**\n",
    "- **Training and Testing Performance:**\n",
    "    - Plot actual vs. predicted values for both training and test datasets.\n",
    "    - Overlay predictions on the original time series to visualize the model’s accuracy.\n",
    "\n",
    "- **Future Forecast:**\n",
    "    - If applicable, visualize forecasts for the target variable over the desired time horizon using the predicted exogenous inputs.\n"
   ]
  },
  {
   "cell_type": "markdown",
   "id": "052c0e33-771c-443d-aed1-e1962a995d06",
   "metadata": {},
   "source": [
    "# Importar bibliotecas necessárias"
   ]
  },
  {
   "cell_type": "code",
   "execution_count": 2,
   "id": "0d48ac8c-2a17-45ec-a801-be23b9745f31",
   "metadata": {},
   "outputs": [],
   "source": [
    "import os\n",
    "import pandas as pd\n",
    "from tsSarimax.models.predictor import ARIMAPredictor\n",
    "from tsSarimax.utils.data_preprocessor import DataPreprocessor\n",
    "from tsSarimax.features_selection.select_features_stat import select_features_based_on_vif\n",
    "import warnings\n",
    "from statsmodels.tools.sm_exceptions import ConvergenceWarning\n",
    "warnings.filterwarnings(\"ignore\", category=ConvergenceWarning)"
   ]
  },
  {
   "cell_type": "markdown",
   "id": "6d869a5b-a851-4ac8-8004-4d5d131a51dd",
   "metadata": {},
   "source": [
    "# Carregar os dados"
   ]
  },
  {
   "cell_type": "code",
   "execution_count": 3,
   "id": "362accb6-6462-461b-9687-b10b6fee5ffb",
   "metadata": {},
   "outputs": [],
   "source": [
    "data_dir = '/home/hayda/Documentos/ssd/eTechShowCase/etssax/tsSarimax/datatsets'\n",
    "data_file = os.path.join(data_dir, 'day.csv')\n",
    "data = pd.read_csv(data_file)"
   ]
  },
  {
   "cell_type": "markdown",
   "id": "458ae6f9-284c-41f8-b6ac-4f62f756082d",
   "metadata": {},
   "source": [
    "# Pré-processamento dos dados"
   ]
  },
  {
   "cell_type": "code",
   "execution_count": 4,
   "id": "ef2f5120-04f2-41ba-826e-1ace75cfa827",
   "metadata": {},
   "outputs": [],
   "source": [
    "data['dteday'] = pd.to_datetime(data['dteday'])\n",
    "# Extrair características de data\n",
    "data['year'] = data['dteday'].dt.year\n",
    "data['month'] = data['dteday'].dt.month\n",
    "data['day'] = data['dteday'].dt.day\n",
    "data['dayofweek'] = data['dteday'].dt.dayofweek\n",
    "data.drop('dteday', axis=1, inplace=True)\n",
    "\n",
    "preprocessor = DataPreprocessor(data, target_col='cnt')\n",
    "data = preprocessor.preprocess(scale_numeric=True, drop_first=True)"
   ]
  },
  {
   "cell_type": "markdown",
   "id": "92ab63aa-6935-4b7d-a4e6-ca88c3f8b0b8",
   "metadata": {},
   "source": [
    "# Selecionar colunas com base na correlação"
   ]
  },
  {
   "cell_type": "code",
   "execution_count": 5,
   "id": "3c6f15b0-f07d-4a63-93c1-f1b5b61cef17",
   "metadata": {},
   "outputs": [
    {
     "data": {
      "text/plain": [
       "['instant', 'yr', 'temp', 'atemp', 'casual', 'year']"
      ]
     },
     "execution_count": 5,
     "metadata": {},
     "output_type": "execute_result"
    }
   ],
   "source": [
    "threshold_min = 0.5\n",
    "threshold_max = 0.9\n",
    "target_col = 'cnt'  # Substitua pelo nome da variável alvo, se necessário\n",
    "\n",
    "dummies_cols, _ = preprocessor.get_processed_columns()\n",
    "\n",
    "data_for_correlation = data.drop(columns=dummies_cols)\n",
    "correlation_matrix = data_for_correlation.corr()\n",
    "\n",
    "selected_columns = correlation_matrix.index[\n",
    "    (abs(correlation_matrix[target_col]) >= threshold_min) & (abs(correlation_matrix[target_col]) <= threshold_max)\n",
    "].tolist()\n",
    "\n",
    "if target_col not in selected_columns:\n",
    "    selected_columns.append(target_col)\n",
    "\n",
    "feature_cols = selected_columns + dummies_cols\n",
    "feature_exog  = [col for col in selected_columns if col !=target_col] \n",
    "\n",
    "filtered_data = data[feature_cols]\n",
    "\n",
    "feature_exog"
   ]
  },
  {
   "cell_type": "markdown",
   "id": "9862362f-a909-4eda-8cd5-77b85c410786",
   "metadata": {},
   "source": [
    "# Separar os dados em treino e validação"
   ]
  },
  {
   "cell_type": "code",
   "execution_count": 6,
   "id": "50607744-eb51-4e8b-90b3-d25632b75c5f",
   "metadata": {},
   "outputs": [
    {
     "data": {
      "text/plain": [
       "['instant', 'yr', 'temp', 'atemp', 'casual', 'year']"
      ]
     },
     "execution_count": 6,
     "metadata": {},
     "output_type": "execute_result"
    }
   ],
   "source": [
    "total_observations = len(filtered_data)\n",
    "validation_size = int(0.1 * total_observations)\n",
    "validation_start_index = total_observations - validation_size\n",
    "\n",
    "train_data = filtered_data.iloc[:validation_start_index]\n",
    "validation_data = filtered_data.iloc[validation_start_index:]\n",
    "validation_data = validation_data.reset_index(drop=True)\n",
    "feature_exog_in_validation = [col for col in validation_data.columns if col in feature_exog] \n",
    "feature_exog_in_validation"
   ]
  },
  {
   "cell_type": "markdown",
   "id": "88068081-1a5f-4e26-bed8-f3f4a2fb18ef",
   "metadata": {},
   "source": [
    "# Usando a classe ARIMAPredictor\n",
    "Inicializar a classe com os dados de treinamento"
   ]
  },
  {
   "cell_type": "code",
   "execution_count": 7,
   "id": "683101d3-01c1-451f-90c5-d47dd1c7a603",
   "metadata": {},
   "outputs": [],
   "source": [
    "predictor = ARIMAPredictor(train_data, target_col)"
   ]
  },
  {
   "cell_type": "markdown",
   "id": "521a2ac4-807a-44b0-9694-2c98ff3b04ea",
   "metadata": {},
   "source": [
    "# Executar previsões com SARIMAX"
   ]
  },
  {
   "cell_type": "code",
   "execution_count": null,
   "id": "625da43a-946a-473d-a87d-331d7985f5be",
   "metadata": {},
   "outputs": [
    {
     "name": "stdout",
     "output_type": "stream",
     "text": [
      "Performing stepwise search to minimize aic\n",
      " ARIMA(2,1,2)(0,0,0)[0] intercept   : AIC=inf, Time=0.38 sec\n",
      " ARIMA(0,1,0)(0,0,0)[0] intercept   : AIC=9715.391, Time=0.01 sec\n",
      " ARIMA(1,1,0)(0,0,0)[0] intercept   : AIC=9650.502, Time=0.02 sec\n",
      " ARIMA(0,1,1)(0,0,0)[0] intercept   : AIC=9553.328, Time=0.11 sec\n",
      " ARIMA(0,1,0)(0,0,0)[0]             : AIC=9713.454, Time=0.01 sec\n",
      " ARIMA(1,1,1)(0,0,0)[0] intercept   : AIC=9518.984, Time=0.20 sec\n",
      " ARIMA(2,1,1)(0,0,0)[0] intercept   : AIC=9519.966, Time=0.26 sec\n",
      " ARIMA(1,1,2)(0,0,0)[0] intercept   : AIC=9520.180, Time=0.29 sec\n",
      " ARIMA(0,1,2)(0,0,0)[0] intercept   : AIC=9519.199, Time=0.18 sec\n",
      " ARIMA(2,1,0)(0,0,0)[0] intercept   : AIC=9614.697, Time=0.04 sec\n",
      " ARIMA(1,1,1)(0,0,0)[0]             : AIC=9520.562, Time=0.07 sec\n",
      "\n",
      "Best model:  ARIMA(1,1,1)(0,0,0)[0] intercept\n",
      "Total fit time: 1.577 seconds\n"
     ]
    }
   ],
   "source": [
    "# Inicializar a instância com os dados\n",
    "predictor = ARIMAPredictor(data, target_col=target_col)\n",
    "\n",
    "# Treinar e obter o modelo ajustado com SARIMAX\n",
    "train_preds, test_preds, future_preds, model_fit, train_metrics, test_metrics = predictor.train_and_predict_sarimax(\n",
    "    feature_cols=feature_exog,\n",
    "    seasonal=True,\n",
    "    stepwise=True,\n",
    "    forecast_horizon=30\n",
    ")"
   ]
  },
  {
   "cell_type": "markdown",
   "id": "f71eca4f-0b44-40c6-ab1a-5d1fe6accff2",
   "metadata": {},
   "source": [
    "# Exibir resultados"
   ]
  },
  {
   "cell_type": "code",
   "execution_count": null,
   "id": "0af87a9a-4c19-482b-8d28-e82656ca97d3",
   "metadata": {},
   "outputs": [],
   "source": [
    "print(\"Train Metrics:\")\n",
    "print(f\"  Mean Squared Error (MSE): {train_metrics[0]:.4f}\")\n",
    "print(f\"  Root Mean Squared Error (RMSE): {train_metrics[1]:.4f}\")\n",
    "print(f\"  Mean Absolute Error (MAE): {train_metrics[2]:.4f}\")\n",
    "print(f\"  R-squared (R2): {train_metrics[3]:.4f}\")\n",
    "print(f\"  Combined Score: {train_metrics[4]:.4f}\")\n",
    "\n",
    "print(\"Test Metrics:\")\n",
    "print(f\"  Mean Squared Error (MSE): {test_metrics[0]:.4f}\")\n",
    "print(f\"  Root Mean Squared Error (RMSE): {test_metrics[1]:.4f}\")\n",
    "print(f\"  Mean Absolute Error (MAE): {test_metrics[2]:.4f}\")\n",
    "print(f\"  R-squared (R2): {test_metrics[3]:.4f}\")\n",
    "print(f\"  Combined Score: {test_metrics[4]:.4f}\")"
   ]
  },
  {
   "cell_type": "markdown",
   "id": "0ee92118-42a7-4e2b-8ec9-4b06ac24b92f",
   "metadata": {},
   "source": [
    "# Previsões futuras"
   ]
  },
  {
   "cell_type": "code",
   "execution_count": null,
   "id": "2c742671-c436-4063-9aaf-11a83376646c",
   "metadata": {},
   "outputs": [],
   "source": [
    "print(f\"Future Predictions: {future_preds}\")"
   ]
  },
  {
   "cell_type": "markdown",
   "id": "11081bc7-9786-4656-98f6-f63f6a5d69bf",
   "metadata": {},
   "source": [
    "# Previsões no conjunto de validação"
   ]
  },
  {
   "cell_type": "markdown",
   "id": "ecdf1192-b396-4aab-9c47-7b9c23244de1",
   "metadata": {},
   "source": [
    "# Análise dos resíduos"
   ]
  },
  {
   "cell_type": "code",
   "execution_count": null,
   "id": "ccafe42c-7301-473c-af8f-7387b40b084d",
   "metadata": {},
   "outputs": [],
   "source": [
    "# Análise de resíduos no conjunto de validação\n",
    "print(\"\\nAnálise de Resíduos no Conjunto de Validação:\")\n",
    "predictor.analyze_residuals(model_fit=model_fit, dataset=validation_data, X=validation_data[feature_exog_in_validation], dataset_label=\"Treinamento\")"
   ]
  },
  {
   "cell_type": "markdown",
   "id": "b7c8483c-e9cb-4d25-8652-c970e356136b",
   "metadata": {},
   "source": [
    "# Select features based on vif"
   ]
  },
  {
   "cell_type": "code",
   "execution_count": null,
   "id": "e90e98cf-4ced-4b47-aeff-399c46756b83",
   "metadata": {},
   "outputs": [],
   "source": [
    "best_features = select_features_based_on_vif(data, filtered_data, target_col)\n",
    "print(\"Best features selected:\", best_features)"
   ]
  }
 ],
 "metadata": {
  "kernelspec": {
   "display_name": "Python\n(timeseries_env)",
   "language": "python",
   "name": "timeseries_env"
  },
  "language_info": {
   "codemirror_mode": {
    "name": "ipython",
    "version": 3
   },
   "file_extension": ".py",
   "mimetype": "text/x-python",
   "name": "python",
   "nbconvert_exporter": "python",
   "pygments_lexer": "ipython3",
   "version": "3.9.20"
  }
 },
 "nbformat": 4,
 "nbformat_minor": 5
}
