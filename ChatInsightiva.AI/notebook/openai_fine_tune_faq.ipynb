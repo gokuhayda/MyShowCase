{
 "cells": [
  {
   "cell_type": "markdown",
   "metadata": {},
   "source": [
    "# 🧠 Fine-tuning com OpenAI (gpt-3.5-turbo) — API V1.x\n",
    "\n",
    "Este notebook está atualizado para usar a biblioteca `openai` versão 1.x seguindo a [documentação oficial](https://platform.openai.com/docs/guides/fine-tuning)."
   ]
  },
  {
   "cell_type": "code",
   "execution_count": 1,
   "metadata": {},
   "outputs": [
    {
     "name": "stdout",
     "output_type": "stream",
     "text": [
      "Requirement already satisfied: openai in /home/goku/Documentos/meus_projetos/chatCulturise.AIv4/.venv/lib/python3.12/site-packages (1.75.0)\n",
      "Requirement already satisfied: anyio<5,>=3.5.0 in /home/goku/Documentos/meus_projetos/chatCulturise.AIv4/.venv/lib/python3.12/site-packages (from openai) (4.9.0)\n",
      "Requirement already satisfied: distro<2,>=1.7.0 in /home/goku/Documentos/meus_projetos/chatCulturise.AIv4/.venv/lib/python3.12/site-packages (from openai) (1.9.0)\n",
      "Requirement already satisfied: httpx<1,>=0.23.0 in /home/goku/Documentos/meus_projetos/chatCulturise.AIv4/.venv/lib/python3.12/site-packages (from openai) (0.28.1)\n",
      "Requirement already satisfied: jiter<1,>=0.4.0 in /home/goku/Documentos/meus_projetos/chatCulturise.AIv4/.venv/lib/python3.12/site-packages (from openai) (0.9.0)\n",
      "Requirement already satisfied: pydantic<3,>=1.9.0 in /home/goku/Documentos/meus_projetos/chatCulturise.AIv4/.venv/lib/python3.12/site-packages (from openai) (2.11.3)\n",
      "Requirement already satisfied: sniffio in /home/goku/Documentos/meus_projetos/chatCulturise.AIv4/.venv/lib/python3.12/site-packages (from openai) (1.3.1)\n",
      "Requirement already satisfied: tqdm>4 in /home/goku/Documentos/meus_projetos/chatCulturise.AIv4/.venv/lib/python3.12/site-packages (from openai) (4.67.1)\n",
      "Requirement already satisfied: typing-extensions<5,>=4.11 in /home/goku/Documentos/meus_projetos/chatCulturise.AIv4/.venv/lib/python3.12/site-packages (from openai) (4.13.2)\n",
      "Requirement already satisfied: idna>=2.8 in /home/goku/Documentos/meus_projetos/chatCulturise.AIv4/.venv/lib/python3.12/site-packages (from anyio<5,>=3.5.0->openai) (3.10)\n",
      "Requirement already satisfied: certifi in /home/goku/Documentos/meus_projetos/chatCulturise.AIv4/.venv/lib/python3.12/site-packages (from httpx<1,>=0.23.0->openai) (2025.1.31)\n",
      "Requirement already satisfied: httpcore==1.* in /home/goku/Documentos/meus_projetos/chatCulturise.AIv4/.venv/lib/python3.12/site-packages (from httpx<1,>=0.23.0->openai) (1.0.8)\n",
      "Requirement already satisfied: h11<0.15,>=0.13 in /home/goku/Documentos/meus_projetos/chatCulturise.AIv4/.venv/lib/python3.12/site-packages (from httpcore==1.*->httpx<1,>=0.23.0->openai) (0.14.0)\n",
      "Requirement already satisfied: annotated-types>=0.6.0 in /home/goku/Documentos/meus_projetos/chatCulturise.AIv4/.venv/lib/python3.12/site-packages (from pydantic<3,>=1.9.0->openai) (0.7.0)\n",
      "Requirement already satisfied: pydantic-core==2.33.1 in /home/goku/Documentos/meus_projetos/chatCulturise.AIv4/.venv/lib/python3.12/site-packages (from pydantic<3,>=1.9.0->openai) (2.33.1)\n",
      "Requirement already satisfied: typing-inspection>=0.4.0 in /home/goku/Documentos/meus_projetos/chatCulturise.AIv4/.venv/lib/python3.12/site-packages (from pydantic<3,>=1.9.0->openai) (0.4.0)\n"
     ]
    }
   ],
   "source": [
    "# 🔧 Instalação da biblioteca OpenAI\n",
    "!pip install --upgrade openai"
   ]
  },
  {
   "cell_type": "code",
   "execution_count": 2,
   "metadata": {},
   "outputs": [],
   "source": [
    "# 🔐 Carregando chave de API do .env\n",
    "import openai\n",
    "import os\n",
    "from dotenv import load_dotenv\n",
    "\n",
    "load_dotenv()\n",
    "openai.api_key = os.getenv(\"OPENAI_API_KEY\")"
   ]
  },
  {
   "cell_type": "code",
   "execution_count": 3,
   "metadata": {},
   "outputs": [
    {
     "name": "stdout",
     "output_type": "stream",
     "text": [
      "✅ Arquivo enviado com sucesso: file-WruPGUcqhrCN5KftYAvQ49\n"
     ]
    }
   ],
   "source": [
    "# 📤 Upload do arquivo JSONL de treinamento\n",
    "file = openai.files.create(\n",
    "    file=open(\"/home/goku/Documentos/meus_projetos/chatCulturise.AIv4/storage/finetune/faq_finetune.jsonl\", \"rb\"),\n",
    "    purpose=\"fine-tune\"\n",
    ")\n",
    "file_id = file.id\n",
    "print(f\"✅ Arquivo enviado com sucesso: {file_id}\")"
   ]
  },
  {
   "cell_type": "code",
   "execution_count": 4,
   "metadata": {},
   "outputs": [
    {
     "name": "stdout",
     "output_type": "stream",
     "text": [
      "📌 Job de fine-tune criado: ftjob-BovahAdmmHqKcpdNBnWyj8Oz\n"
     ]
    }
   ],
   "source": [
    "# 🚀 Iniciar o processo de fine-tuning\n",
    "job = openai.fine_tuning.jobs.create(\n",
    "    training_file=file_id,\n",
    "    model=\"gpt-3.5-turbo\"\n",
    ")\n",
    "job_id = job.id\n",
    "print(f\"📌 Job de fine-tune criado: {job_id}\")"
   ]
  },
  {
   "cell_type": "code",
   "execution_count": 5,
   "metadata": {},
   "outputs": [
    {
     "name": "stdout",
     "output_type": "stream",
     "text": [
      "Status do job: validating_files\n"
     ]
    }
   ],
   "source": [
    "# 📊 Acompanhar status do job\n",
    "job_status = openai.fine_tuning.jobs.retrieve(job_id)\n",
    "print(f\"Status do job: {job_status.status}\")"
   ]
  },
  {
   "cell_type": "code",
   "execution_count": 6,
   "metadata": {},
   "outputs": [
    {
     "name": "stdout",
     "output_type": "stream",
     "text": [
      "1745422553 | ERROR | Creating this fine-tuning job would exceed your hard limit, please check your plan and billing details.                     Cost of job ftjob-irZ5vXddTyTcdoxQuFPH95ln: USD 2.64. Quota remaining for your project proj_5XcFUXkzEtBuggIMCzM3fMQL: USD -49.37.\n",
      "1745422484 | INFO | Validating training file: file-5128MkPWZ7dVE8TLeSJ4Dw\n",
      "1745422484 | INFO | Created fine-tuning job: ftjob-irZ5vXddTyTcdoxQuFPH95ln\n"
     ]
    }
   ],
   "source": [
    "events = openai.fine_tuning.jobs.list_events(\"ftjob-irZ5vXddTyTcdoxQuFPH95ln\")\n",
    "\n",
    "for event in events.data:\n",
    "    print(f\"{event.created_at} | {event.level.upper()} | {event.message}\")"
   ]
  },
  {
   "cell_type": "code",
   "execution_count": 7,
   "metadata": {},
   "outputs": [
    {
     "name": "stdout",
     "output_type": "stream",
     "text": [
      "🔁 ftjob-BovahAdmmHqKcpdNBnWyj8Oz - Status: validating_files\n",
      "🔁 ftjob-irZ5vXddTyTcdoxQuFPH95ln - Status: failed\n",
      "🔁 ftjob-vv4c3HPteQyit141nU7CgSr1 - Status: failed\n",
      "🔁 ftjob-ckhRSNTFmQDGce91woabSogg - Status: failed\n"
     ]
    }
   ],
   "source": [
    "# 🧾 Listar todos os jobs\n",
    "for job in openai.fine_tuning.jobs.list().data:\n",
    "    print(f\"🔁 {job.id} - Status: {job.status}\")"
   ]
  },
  {
   "cell_type": "code",
   "execution_count": 8,
   "metadata": {},
   "outputs": [
    {
     "name": "stdout",
     "output_type": "stream",
     "text": [
      "📌 Job ID: ftjob-BovahAdmmHqKcpdNBnWyj8Oz | Status: validating_files | Model: None\n",
      "📌 Job ID: ftjob-irZ5vXddTyTcdoxQuFPH95ln | Status: failed | Model: None\n",
      "📌 Job ID: ftjob-vv4c3HPteQyit141nU7CgSr1 | Status: failed | Model: None\n",
      "📌 Job ID: ftjob-ckhRSNTFmQDGce91woabSogg | Status: failed | Model: None\n"
     ]
    }
   ],
   "source": [
    "# Listar os últimos jobs de fine-tuning\n",
    "jobs = openai.fine_tuning.jobs.list(limit=10)\n",
    "\n",
    "# Ver o ID real do modelo treinado\n",
    "for job in jobs.data:\n",
    "    print(f\"📌 Job ID: {job.id} | Status: {job.status} | Model: {job.fine_tuned_model}\")"
   ]
  },
  {
   "cell_type": "code",
   "execution_count": 15,
   "metadata": {},
   "outputs": [
    {
     "name": "stdout",
     "output_type": "stream",
     "text": [
      "1745423253 | ERROR | Creating this fine-tuning job would exceed your hard limit, please check your plan and billing details.                     Cost of job ftjob-BovahAdmmHqKcpdNBnWyj8Oz: USD 2.64. Quota remaining for your project proj_5XcFUXkzEtBuggIMCzM3fMQL: USD -49.37.\n",
      "1745423186 | INFO | Validating training file: file-WruPGUcqhrCN5KftYAvQ49\n",
      "1745423186 | INFO | Created fine-tuning job: ftjob-BovahAdmmHqKcpdNBnWyj8Oz\n"
     ]
    }
   ],
   "source": [
    "model_id = job.fine_tuned_model\n",
    "events = openai.fine_tuning.jobs.list_events(\"ftjob-BovahAdmmHqKcpdNBnWyj8Oz\")\n",
    "\n",
    "for event in events.data:\n",
    "    print(f\"{event.created_at} | {event.level.upper()} | {event.message}\")"
   ]
  },
  {
   "cell_type": "code",
   "execution_count": null,
   "metadata": {},
   "outputs": [],
   "source": [
    "job = openai.fine_tuning.jobs.retrieve(\"ftjob-BovahAdmmHqKcpdNBnWyj8Oz\")\n",
    "print(job.status)"
   ]
  },
  {
   "cell_type": "code",
   "execution_count": null,
   "metadata": {},
   "outputs": [],
   "source": [
    "model_id = job.fine_tuned_model\n",
    "\n",
    "response = openai.chat.completions.create(\n",
    "    model=model_id,\n",
    "    messages=[\n",
    "        {\"role\": \"user\", \"content\": \"Como funciona o diagnóstico da Culturise?\"}\n",
    "    ]\n",
    ")\n",
    "\n",
    "print(response.choices[0].message.content)\n"
   ]
  }
 ],
 "metadata": {
  "kernelspec": {
   "display_name": ".venv",
   "language": "python",
   "name": "python3"
  },
  "language_info": {
   "codemirror_mode": {
    "name": "ipython",
    "version": 3
   },
   "file_extension": ".py",
   "mimetype": "text/x-python",
   "name": "python",
   "nbconvert_exporter": "python",
   "pygments_lexer": "ipython3",
   "version": "3.12.3"
  }
 },
 "nbformat": 4,
 "nbformat_minor": 2
}
